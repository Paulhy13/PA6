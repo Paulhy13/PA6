{
 "cells": [
  {
   "cell_type": "markdown",
   "id": "057aefef",
   "metadata": {},
   "source": [
    "### PA6, Paul Hyden, FA22"
   ]
  },
  {
   "cell_type": "code",
   "execution_count": 1,
   "id": "ed920285",
   "metadata": {},
   "outputs": [
    {
     "name": "stdout",
     "output_type": "stream",
     "text": [
      "Enter the length of side A: 5\n",
      "Enter the length of side B: 5\n",
      "Enter the length of side C: 5\n",
      "The area of the triangle is approximately 10.825317547305483 square units.\n",
      "The perimeter of the triangle is 15 linear units.\n"
     ]
    }
   ],
   "source": [
    "import math\n",
    "def calcArea(A,B,C): \n",
    "    s = (A + B + C) / 2\n",
    "    area = math.sqrt(s * (s - A) * (s - B) * (s - C))\n",
    "    return area\n",
    "    \n",
    "def calcPerimeter(A,B,C):\n",
    "    return A+B+C\n",
    "A=int(input(\"Enter the length of side A: \"))\n",
    "B=int(input(\"Enter the length of side B: \"))\n",
    "C=int(input(\"Enter the length of side C: \"))\n",
    "area = calcArea(A,B,C)\n",
    "print(\"The area of the triangle is approximately\",area,\"square units.\")\n",
    "perimeter = calcPerimeter(A,B,C)\n",
    "print(\"The perimeter of the triangle is\",perimeter,\"linear units.\")"
   ]
  },
  {
   "cell_type": "code",
   "execution_count": 2,
   "id": "bce99a6c",
   "metadata": {},
   "outputs": [
    {
     "name": "stdout",
     "output_type": "stream",
     "text": [
      "Guess a number between 1 and 1000: 500\n",
      "Too high! Guess again.\n",
      "Guess a number between 1 and 1000: 750\n",
      "Too high! Guess again.\n",
      "Guess a number between 1 and 1000: 850\n",
      "Too high! Guess again.\n",
      "Guess a number between 1 and 1000: 900\n",
      "Too high! Guess again.\n",
      "Guess a number between 1 and 1000: 950\n",
      "Too high! Guess again.\n",
      "Guess a number between 1 and 1000: 500\n",
      "Too high! Guess again.\n",
      "Guess a number between 1 and 1000: 200\n",
      "Too low! Guess again.\n",
      "Guess a number between 1 and 1000: 300\n",
      "Too low! Guess again.\n",
      "Guess a number between 1 and 1000: 400\n",
      "Too high! Guess again.\n",
      "Guess a number between 1 and 1000: 350\n",
      "Too high! Guess again.\n",
      "Guess a number between 1 and 1000: 325\n",
      "Too low! Guess again.\n",
      "Guess a number between 1 and 1000: 330\n",
      "Too high! Guess again.\n",
      "Guess a number between 1 and 1000: 326\n",
      "Too low! Guess again.\n",
      "Guess a number between 1 and 1000: 327\n",
      "Too low! Guess again.\n",
      "Guess a number between 1 and 1000: 328\n",
      "Too low! Guess again.\n",
      "Guess a number between 1 and 1000: 329\n",
      "Correct!\n"
     ]
    }
   ],
   "source": [
    "import random\n",
    "def evaluateGuess(guess, number):\n",
    "    if guess > number:\n",
    "        return \"Too high! Guess again.\"\n",
    "    elif guess < number:\n",
    "        return \"Too low! Guess again.\"\n",
    "    else:\n",
    "        return \"Correct!\"\n",
    "\n",
    "number = random.randint(1, 1000)\n",
    "while True:\n",
    "    guess = int(input(\"Guess a number between 1 and 1000: \"))\n",
    "    result = evaluateGuess(guess, number)\n",
    "    if result == \"Correct!\":\n",
    "        break\n",
    "    print(result)\n",
    "print(\"Correct!\")"
   ]
  },
  {
   "cell_type": "code",
   "execution_count": 8,
   "id": "55147263",
   "metadata": {},
   "outputs": [
    {
     "name": "stdout",
     "output_type": "stream",
     "text": [
      "The mean temperature for the past 5 days is 88.20 degrees F.\n"
     ]
    }
   ],
   "source": [
    "def meanTemp(temps):\n",
    "    \n",
    "    total = 0\n",
    "    days = 0\n",
    "    \n",
    "    for i in temps:\n",
    "        days += 1\n",
    "        total += i\n",
    "\n",
    "    meanF = total/days\n",
    "    \n",
    "    return days, meanF\n",
    "\n",
    "temperatures = [95, 109, 89, 79, 69]\n",
    "days, meanF = meanTemp(temperatures)\n",
    "\n",
    "print('The mean temperature for the past %d days is %0.2f degrees F.' %(days, meanF))"
   ]
  },
  {
   "cell_type": "code",
   "execution_count": null,
   "id": "5839b623",
   "metadata": {},
   "outputs": [],
   "source": []
  }
 ],
 "metadata": {
  "kernelspec": {
   "display_name": "Python 3 (ipykernel)",
   "language": "python",
   "name": "python3"
  },
  "language_info": {
   "codemirror_mode": {
    "name": "ipython",
    "version": 3
   },
   "file_extension": ".py",
   "mimetype": "text/x-python",
   "name": "python",
   "nbconvert_exporter": "python",
   "pygments_lexer": "ipython3",
   "version": "3.9.13"
  }
 },
 "nbformat": 4,
 "nbformat_minor": 5
}
